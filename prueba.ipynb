{
 "cells": [
  {
   "cell_type": "code",
   "execution_count": 25,
   "id": "5ed4a6d0",
   "metadata": {},
   "outputs": [],
   "source": [
    "from llama_index.readers.file import  PandasCSVReader\n",
    "from llama_index.core.agent.workflow import AgentWorkflow, ReActAgent\n",
    "from dotenv import load_dotenv\n",
    "from llama_index.llms.google_genai import GoogleGenAI\n",
    "from llama_index.embeddings.google_genai import GoogleGenAIEmbedding\n",
    "from llama_index.core import SimpleDirectoryReader, VectorStoreIndex\n",
    "from llama_index.core import Settings\n",
    "import os\n",
    "from llama_index.core import StorageContext, load_index_from_storage\n",
    "from llama_index.core.tools import QueryEngineTool\n",
    "from llama_index.core.workflow import Context"
   ]
  },
  {
   "cell_type": "code",
   "execution_count": 59,
   "id": "f54dd8c9",
   "metadata": {},
   "outputs": [],
   "source": [
    "load_dotenv()\n",
    "gemini_token = os.getenv(\"GOOGLE_API_KEY\")\n",
    "llm = GoogleGenAI(model=\"gemini-2.5-pro-exp-03-25\", token=gemini_token)\n",
    "embed_model = GoogleGenAIEmbedding(model=\"gemini-embedding-exp-03-07\", token=gemini_token)\n"
   ]
  },
  {
   "cell_type": "code",
   "execution_count": 60,
   "id": "4f174b07",
   "metadata": {},
   "outputs": [],
   "source": [
    "Settings.llm= llm\n",
    "Settings.embed_model = embed_model\n",
    "\n",
    "try:\n",
    "\n",
    "    storage_context = StorageContext.from_defaults(\n",
    "        persist_dir=\"./storage/ciuu\"\n",
    "    )\n",
    "    ciuu_index = load_index_from_storage(storage_context)\n",
    "\n",
    "    index_loaded = True\n",
    "except:\n",
    "    index_loaded = False"
   ]
  },
  {
   "cell_type": "code",
   "execution_count": 62,
   "id": "43cdd6c2",
   "metadata": {},
   "outputs": [],
   "source": [
    "parser = PandasCSVReader(pandas_config={\"encoding\": \"latin1\"})\n",
    "file_extractor = {\".csv\": parser} \n",
    "if not index_loaded:\n",
    "    ciuu_docs = SimpleDirectoryReader(\n",
    "        \"./data\", file_extractor=file_extractor\n",
    "    ).load_data()\n",
    "\n",
    "    ciuu_index = VectorStoreIndex.from_documents(ciuu_docs)\n",
    "\n",
    "    ciuu_index.storage_context.persist(persist_dir=\"./storage/ciuu\")\n"
   ]
  },
  {
   "cell_type": "code",
   "execution_count": 63,
   "id": "c032bd86",
   "metadata": {},
   "outputs": [],
   "source": [
    "ciuu_engine = ciuu_index.as_query_engine(similarity_top_k=3)"
   ]
  },
  {
   "cell_type": "code",
   "execution_count": 64,
   "id": "c0436a0d",
   "metadata": {},
   "outputs": [],
   "source": [
    "query_engine_tools = [\n",
    "    QueryEngineTool.from_defaults(\n",
    "        query_engine=ciuu_engine,\n",
    "        name=\"ciuu\",\n",
    "        description=\"use this tool to get information from the ciuu database\",\n",
    "    )\n",
    "]"
   ]
  },
  {
   "cell_type": "code",
   "execution_count": 71,
   "id": "c263262f",
   "metadata": {},
   "outputs": [],
   "source": [
    "ciuu_agent = ReActAgent(\n",
    "    name = \"ciuu\",\n",
    "    description=\"use this agent to get information from the ciuu database\",\n",
    "    tools=query_engine_tools,\n",
    "    llm=llm,\n",
    "    system_prompt=\"\"\"Eres un asistente experto en clasificación económica que ayuda a las personas a identificar el código CIIU (Clasificación Industrial Internacional Uniforme) que mejor se ajusta a la descripción de su actividad económica. Tu objetivo es analizar cuidadosamente la descripción que proporciona el usuario y encontrar el código CIIU más relevante y preciso.\n",
    "\n",
    "                    Tienes acceso a una base de datos con códigos CIIU, sus nombres y descripciones. Cuando recibas una descripción de trabajo, debes:\n",
    "\n",
    "                    1. Comprender el propósito principal de la actividad descrita.\n",
    "                    2. Buscar el código CIIU que más se asemeje en términos de sector, producto, o servicio ofrecido.\n",
    "                    3. Priorizar coincidencias conceptuales y semánticas, no solo palabras clave.\n",
    "                    4. En caso de dudas, elige las 3 opciones mas específica y directa que represente la actividad.\n",
    "                    5. Devuelve el resultado en el siguiente formato en json:\n",
    "\n",
    "                    Código CIIU: [CÓDIGO]  \n",
    "                    Nombre: [NOMBRE DE LA ACTIVIDAD]  \n",
    "                    Si el usuario no proporciona suficiente información, responde solicitando una descripción más detallada de la actividad.\n",
    "\n",
    "                    Responde siempre en español y con un lenguaje claro y formal.\n",
    "\n",
    "                    no te olvides nunca de responder en el formato dado y el codigo tiene que ser el numero asociado al nombre de la actividad, no el nombre de la actividad solo.\n",
    "                    Si no encuentras el código CIIU, responde con \"No se encontró el código CIIU para la actividad proporcionada\".\n",
    "\n",
    "                   responde con un json en el siguiente formato\n",
    "                    \n",
    "                    \n",
    "                \"\"\"\n",
    ")\n",
    "\n",
    "ctx = Context(ciuu_agent)"
   ]
  },
  {
   "cell_type": "code",
   "execution_count": 76,
   "id": "9559a66b",
   "metadata": {},
   "outputs": [],
   "source": [
    "handler = ciuu_agent.run(\"Soy profesor de primaria en un pueblo, dame mi codigo ciiu\", ctx=ctx)\n",
    "\n",
    "response = await handler"
   ]
  },
  {
   "cell_type": "code",
   "execution_count": 77,
   "id": "6c12800c",
   "metadata": {},
   "outputs": [
    {
     "name": "stdout",
     "output_type": "stream",
     "text": [
      "El código CIIU que corresponde a tu actividad como profesor de primaria es el **8513: Educación básica primaria**.\n"
     ]
    }
   ],
   "source": [
    "print(str(response))"
   ]
  }
 ],
 "metadata": {
  "kernelspec": {
   "display_name": "env",
   "language": "python",
   "name": "python3"
  },
  "language_info": {
   "codemirror_mode": {
    "name": "ipython",
    "version": 3
   },
   "file_extension": ".py",
   "mimetype": "text/x-python",
   "name": "python",
   "nbconvert_exporter": "python",
   "pygments_lexer": "ipython3",
   "version": "3.12.6"
  }
 },
 "nbformat": 4,
 "nbformat_minor": 5
}
