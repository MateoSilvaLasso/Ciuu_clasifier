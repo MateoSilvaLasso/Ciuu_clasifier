{
 "cells": [
  {
   "cell_type": "code",
   "execution_count": 131,
   "id": "5ed4a6d0",
   "metadata": {},
   "outputs": [],
   "source": [
    "from llama_index.readers.file import  PandasCSVReader\n",
    "from llama_index.core.agent.workflow import AgentWorkflow, ReActAgent\n",
    "from llama_index.core.agent.workflow import FunctionAgent\n",
    "from dotenv import load_dotenv\n",
    "from llama_index.llms.google_genai import GoogleGenAI\n",
    "from llama_index.embeddings.google_genai import GoogleGenAIEmbedding\n",
    "from llama_index.llms.openai import OpenAI\n",
    "from llama_index.embeddings.openai import OpenAIEmbedding\n",
    "from llama_index.core import SimpleDirectoryReader, VectorStoreIndex\n",
    "from llama_index.core import Settings\n",
    "import os\n",
    "from llama_index.core import StorageContext, load_index_from_storage\n",
    "from llama_index.core.tools import QueryEngineTool\n",
    "from llama_index.core.workflow import Context\n",
    "from llama_index.agent.openai import OpenAIAgent"
   ]
  },
  {
   "cell_type": "code",
   "execution_count": 132,
   "id": "f54dd8c9",
   "metadata": {},
   "outputs": [],
   "source": [
    "load_dotenv()\n",
    "openai_token = os.getenv(\"OPENAI_API_KEY\")\n",
    "llm = OpenAI(model=\"gpt-4.1\", token=openai_token)\n",
    "embed_model = OpenAIEmbedding(model=\"text-embedding-3-small\", token=openai_token)"
   ]
  },
  {
   "cell_type": "code",
   "execution_count": 133,
   "id": "4f174b07",
   "metadata": {},
   "outputs": [],
   "source": [
    "Settings.llm= llm\n",
    "Settings.embed_model = embed_model\n",
    "\n",
    "try:\n",
    "\n",
    "    storage_context = StorageContext.from_defaults(\n",
    "        persist_dir=\"./storage/ciuu\"\n",
    "    )\n",
    "    ciuu_index = load_index_from_storage(storage_context)\n",
    "\n",
    "    index_loaded = True\n",
    "except:\n",
    "    index_loaded = False"
   ]
  },
  {
   "cell_type": "code",
   "execution_count": 134,
   "id": "43cdd6c2",
   "metadata": {},
   "outputs": [],
   "source": [
    "parser = PandasCSVReader(pandas_config={\"encoding\": \"latin1\"})\n",
    "file_extractor = {\".csv\": parser} \n",
    "if not index_loaded:\n",
    "    ciuu_docs = SimpleDirectoryReader(\n",
    "        \"./data\", file_extractor=file_extractor\n",
    "    ).load_data()\n",
    "\n",
    "    ciuu_index = VectorStoreIndex.from_documents(ciuu_docs)\n",
    "\n",
    "    ciuu_index.storage_context.persist(persist_dir=\"./storage/ciuu\")\n"
   ]
  },
  {
   "cell_type": "code",
   "execution_count": 135,
   "id": "c032bd86",
   "metadata": {},
   "outputs": [],
   "source": [
    "ciuu_engine = ciuu_index.as_query_engine(similarity_top_k=3, structured_output=True)"
   ]
  },
  {
   "cell_type": "code",
   "execution_count": 136,
   "id": "c0436a0d",
   "metadata": {},
   "outputs": [],
   "source": [
    "query_engine_tools = [\n",
    "    QueryEngineTool.from_defaults(\n",
    "        query_engine=ciuu_engine,\n",
    "        name=\"ciuu\",\n",
    "        description=\"use this tool to get information from the ciuu database\",\n",
    "    )\n",
    "]"
   ]
  },
  {
   "cell_type": "code",
   "execution_count": 137,
   "id": "c263262f",
   "metadata": {},
   "outputs": [],
   "source": [
    "ciuu_agent = FunctionAgent(\n",
    "    name = \"ciuu\",\n",
    "    description=\"use this agent to get information from the ciuu database\",\n",
    "    tools=query_engine_tools,\n",
    "    llm=llm,\n",
    "    system_prompt=\"\"\"\n",
    "                    Eres un asistente experto en clasificación económica que ayuda a las personas a identificar los códigos CIIU (Clasificación Industrial Internacional Uniforme) que mejor se ajustan a la descripción de su actividad económica.\n",
    "\n",
    "                    Cuando el usuario proporcione una descripción de su trabajo, analiza cuidadosamente el texto para entender la actividad principal. Luego, busca y selecciona los códigos CIIU más relevantes según su similitud semántica y conceptual.\n",
    "\n",
    "                    Tu respuesta debe ser un objeto JSON válido con una lista llamada \"resultados\", en la que cada elemento contiene dos claves: \"codigo\" y \"descripcion\".\n",
    "\n",
    "                    Devuelve siempre entre 1 y 3 coincidencias relevantes, ordenadas por similitud. No incluyas texto adicional, explicaciones ni comentarios fuera del JSON. Devuelve solo el JSON.\n",
    "\n",
    "                    Formato requerido:\n",
    "                    {\n",
    "                    \"resultados\": [\n",
    "                        {\n",
    "                        \"codigo\": \"0112\",\n",
    "                        \"descripcion\": \"Cultivo de arroz\"\n",
    "                        },\n",
    "                        {\n",
    "                        \"codigo\": \"0113\",\n",
    "                        \"descripcion\": \"Cultivo de hortalizas, raíces y tubérculos\"\n",
    "                        },\n",
    "                        {\n",
    "                        \"codigo\": \"0111\",\n",
    "                        \"descripcion\": \"Cultivo de cereales (excepto arroz), legumbres y semillas oleaginosas\"\n",
    "                        }\n",
    "                    ]\n",
    "                    }\n",
    "\n",
    "                    Si la descripción es ambigua o insuficiente, devuelve exactamente esto:\n",
    "                    {\n",
    "                    \"resultados\": []\n",
    "                    }\n",
    "                    \"\"\"\n",
    ")\n",
    "\n"
   ]
  },
  {
   "cell_type": "code",
   "execution_count": 141,
   "id": "9559a66b",
   "metadata": {},
   "outputs": [],
   "source": [
    "handler = ciuu_agent.run(\"Yo vendo pollo, carne y queso en mi negocio\")\n",
    "\n",
    "response = await handler"
   ]
  },
  {
   "cell_type": "code",
   "execution_count": 142,
   "id": "6c12800c",
   "metadata": {},
   "outputs": [
    {
     "name": "stdout",
     "output_type": "stream",
     "text": [
      "{\n",
      "\"resultados\": [\n",
      "    {\n",
      "        \"codigo\": \"4723\",\n",
      "        \"descripcion\": \"Comercio al por menor de carnes (incluye aves de corral), productos cárnicos, pescados y productos de mar, en establecimientos especializados\"\n",
      "    },\n",
      "    {\n",
      "        \"codigo\": \"4722\",\n",
      "        \"descripcion\": \"Comercio al por menor de leche, productos lácteos y huevos, en establecimientos especializados\"\n",
      "    }\n",
      "]\n",
      "}\n"
     ]
    }
   ],
   "source": [
    "print(handler)"
   ]
  }
 ],
 "metadata": {
  "kernelspec": {
   "display_name": "env",
   "language": "python",
   "name": "python3"
  },
  "language_info": {
   "codemirror_mode": {
    "name": "ipython",
    "version": 3
   },
   "file_extension": ".py",
   "mimetype": "text/x-python",
   "name": "python",
   "nbconvert_exporter": "python",
   "pygments_lexer": "ipython3",
   "version": "3.12.6"
  }
 },
 "nbformat": 4,
 "nbformat_minor": 5
}
