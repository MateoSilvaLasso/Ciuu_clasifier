{
 "cells": [
  {
   "cell_type": "code",
   "execution_count": 1,
   "id": "5ed4a6d0",
   "metadata": {},
   "outputs": [
    {
     "name": "stderr",
     "output_type": "stream",
     "text": [
      "c:\\Users\\mateo\\Desktop\\Semestre 8\\Banco-w\\env\\Lib\\site-packages\\tqdm\\auto.py:21: TqdmWarning: IProgress not found. Please update jupyter and ipywidgets. See https://ipywidgets.readthedocs.io/en/stable/user_install.html\n",
      "  from .autonotebook import tqdm as notebook_tqdm\n",
      "None of PyTorch, TensorFlow >= 2.0, or Flax have been found. Models won't be available and only tokenizers, configuration and file/data utilities can be used.\n"
     ]
    }
   ],
   "source": [
    "from llama_index.readers.file import  PandasCSVReader\n",
    "from llama_index.core.agent.workflow import AgentWorkflow, ReActAgent\n",
    "from llama_index.core.agent.workflow import FunctionAgent\n",
    "from dotenv import load_dotenv\n",
    "from llama_index.llms.google_genai import GoogleGenAI\n",
    "from llama_index.embeddings.google_genai import GoogleGenAIEmbedding\n",
    "from llama_index.llms.openai import OpenAI\n",
    "from llama_index.embeddings.openai import OpenAIEmbedding\n",
    "from llama_index.core import SimpleDirectoryReader, VectorStoreIndex\n",
    "from llama_index.core import Settings\n",
    "import os\n",
    "from llama_index.core import StorageContext, load_index_from_storage\n",
    "from llama_index.core.tools import QueryEngineTool\n",
    "from llama_index.core.workflow import Context\n",
    "from llama_index.agent.openai import OpenAIAgent\n",
    "from llama_index.llms.groq import Groq"
   ]
  },
  {
   "cell_type": "code",
   "execution_count": 44,
   "id": "f54dd8c9",
   "metadata": {},
   "outputs": [],
   "source": [
    "load_dotenv()\n",
    "openai_token = os.getenv(\"OPENAI_API_KEY\")\n",
    "gemini_token = os.getenv(\"GOOGLE_API_KEY\")\n",
    "groq_token = os.getenv(\"GROQ_API_KEY\")\n",
    "llm = Groq(model=\"llama3-70b-8192\", api_key=groq_token)\n",
    "embed_model = GoogleGenAIEmbedding(model=\"gemini-embedding-exp-03-07\", token=gemini_token)"
   ]
  },
  {
   "cell_type": "code",
   "execution_count": 46,
   "id": "4f174b07",
   "metadata": {},
   "outputs": [],
   "source": [
    "Settings.llm= llm\n",
    "Settings.embed_model = embed_model\n",
    "\n",
    "try:\n",
    "\n",
    "    storage_context = StorageContext.from_defaults(\n",
    "        persist_dir=\"../storage/ciuu\"\n",
    "    )\n",
    "    ciuu_index = load_index_from_storage(storage_context)\n",
    "\n",
    "    index_loaded = True\n",
    "except:\n",
    "    index_loaded = False"
   ]
  },
  {
   "cell_type": "code",
   "execution_count": 47,
   "id": "43cdd6c2",
   "metadata": {},
   "outputs": [],
   "source": [
    "parser = PandasCSVReader(pandas_config={\"encoding\": \"latin1\"})\n",
    "file_extractor = {\".csv\": parser} \n",
    "if not index_loaded:\n",
    "    ciuu_docs = SimpleDirectoryReader(\n",
    "        \"../data\", file_extractor=file_extractor\n",
    "    ).load_data()\n",
    "\n",
    "    ciuu_index = VectorStoreIndex.from_documents(ciuu_docs)\n",
    "\n",
    "    ciuu_index.storage_context.persist(persist_dir=\"../storage/ciuu\")\n"
   ]
  },
  {
   "cell_type": "code",
   "execution_count": 48,
   "id": "c032bd86",
   "metadata": {},
   "outputs": [],
   "source": [
    "ciuu_engine = ciuu_index.as_query_engine(similarity_top_k=3, structured_output=True)"
   ]
  },
  {
   "cell_type": "code",
   "execution_count": 49,
   "id": "c0436a0d",
   "metadata": {},
   "outputs": [],
   "source": [
    "query_engine_tools = [\n",
    "    QueryEngineTool.from_defaults(\n",
    "        query_engine=ciuu_engine,\n",
    "        name=\"ciuu\",\n",
    "        description=\"use this tool to get information from the ciuu database\",\n",
    "    )\n",
    "]"
   ]
  },
  {
   "cell_type": "code",
   "execution_count": 50,
   "id": "c263262f",
   "metadata": {},
   "outputs": [],
   "source": [
    "ciuu_agent = FunctionAgent(\n",
    "    name = \"ciuu\",\n",
    "    description=\"use this agent to get information from the ciuu database\",\n",
    "    tools=query_engine_tools,\n",
    "    llm=llm,\n",
    "    system_prompt=\"\"\"\n",
    "                    Eres un asistente experto en clasificación económica que ayuda a las personas a identificar los códigos CIIU (Clasificación Industrial Internacional Uniforme) que mejor se ajustan a la descripción de su actividad económica.\n",
    "\n",
    "                    Cuando el usuario proporcione una descripción de su trabajo, analiza cuidadosamente el texto para entender la actividad principal. Luego, busca y selecciona los códigos CIIU más relevantes según su similitud semántica y conceptual.\n",
    "\n",
    "                    Tu respuesta debe ser un objeto JSON válido con una lista llamada \"resultados\", en la que cada elemento contiene dos claves: \"codigo\" y \"descripcion\".\n",
    "\n",
    "                    Devuelve siempre 3 coincidencias relevantes, ordenadas por similitud. No incluyas texto adicional, explicaciones ni comentarios fuera del JSON. Devuelve solo el JSON sin formatos como  ```json ``` ni cosas asi.\n",
    "                    Formato requerido:\n",
    "                    {\n",
    "                    \"opcion_1\": {\n",
    "                    \"codigo\": \"0112\",\n",
    "                    \"descripcion\": \"Cultivo de arroz\"\n",
    "                    },\n",
    "                    \"opcion_2\": {\n",
    "                    \"codigo\": \"0113\",\n",
    "                    \"descripcion\": \"Cultivo de hortalizas, raíces y tubérculos\"\n",
    "                    },\n",
    "                    \"opcion_3\": {\n",
    "                    \"codigo\": \"0111\",\n",
    "                    \"descripcion\": \"Cultivo de cereales (excepto arroz), legumbres y semillas oleaginosas\"\n",
    "                    }\n",
    "                }\n",
    "\n",
    "                    Si la descripción es ambigua o insuficiente, devuelve exactamente esto:\n",
    "                    {\n",
    "                    \"resultados\": []\n",
    "                    }\n",
    "                    \"\"\"\n",
    ")\n",
    "\n"
   ]
  },
  {
   "cell_type": "code",
   "execution_count": 51,
   "id": "9559a66b",
   "metadata": {},
   "outputs": [],
   "source": [
    "handler = ciuu_agent.run(\"Yo vendo pollo, carne y queso en mi negocio\")\n",
    "\n",
    "response = await handler"
   ]
  },
  {
   "cell_type": "code",
   "execution_count": 52,
   "id": "6c12800c",
   "metadata": {},
   "outputs": [
    {
     "name": "stdout",
     "output_type": "stream",
     "text": [
      "{\n",
      "\"opcion_1\": {\n",
      "\"codigo\": \"4723\",\n",
      "\"descripcion\": \"Comercio al por menor de carnes (incluye aves de corral), productos cárnicos, pescados y productos de mar, en establecimientos especializados\"\n",
      "},\n",
      "\"opcion_2\": {\n",
      "\"codigo\": \"4729\",\n",
      "\"descripcion\": \"Comercio al por menor de productos lácteos, huevos, aceites y grasas comestibles, en establecimientos especializados\"\n",
      "},\n",
      "\"opcion_3\": {\n",
      "\"codigo\": \"5211\",\n",
      "\"descripcion\": \"Comercio al por mayor de carnes, productos cárnicos, pescados y productos de mar\"\n",
      "}\n",
      "}\n"
     ]
    }
   ],
   "source": [
    "print(handler)"
   ]
  }
 ],
 "metadata": {
  "kernelspec": {
   "display_name": "env",
   "language": "python",
   "name": "python3"
  },
  "language_info": {
   "codemirror_mode": {
    "name": "ipython",
    "version": 3
   },
   "file_extension": ".py",
   "mimetype": "text/x-python",
   "name": "python",
   "nbconvert_exporter": "python",
   "pygments_lexer": "ipython3",
   "version": "3.12.6"
  }
 },
 "nbformat": 4,
 "nbformat_minor": 5
}
